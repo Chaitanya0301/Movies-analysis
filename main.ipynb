{
 "cells": [
  {
   "cell_type": "code",
   "execution_count": 1,
   "id": "c4095b3b",
   "metadata": {},
   "outputs": [],
   "source": [
    "# project: p8\n",
    "# submitter: csharma4\n",
    "# partner: none\n",
    "# hours: 4"
   ]
  },
  {
   "cell_type": "code",
   "execution_count": 2,
   "id": "bca17d1b",
   "metadata": {},
   "outputs": [],
   "source": [
    "import csv"
   ]
  },
  {
   "cell_type": "code",
   "execution_count": 3,
   "id": "8ffbfc20",
   "metadata": {},
   "outputs": [],
   "source": [
    "def process_csv(filename):\n",
    "    example_file = open(filename, encoding=\"utf-8\")\n",
    "    example_reader = csv.reader(example_file)\n",
    "    example_data = list(example_reader)\n",
    "    example_file.close()\n",
    "    return example_data"
   ]
  },
  {
   "cell_type": "code",
   "execution_count": 4,
   "id": "31548760",
   "metadata": {},
   "outputs": [],
   "source": [
    "def get_mapping(path):\n",
    "    \"\"\"\n",
    "    Converts mapping csv list of lists data into a dict with keys as IDs and values as names.\n",
    "    \"\"\"\n",
    "    import csv\n",
    "    # Task 2.2 of Lab-P8 has all the necessary steps to complete this function.\n",
    "    # You just need to copy/paste the relevant code, identify the input and output of the function.\n",
    "    csv_Data = process_csv(path)\n",
    "    mapping_rows = []\n",
    "    for i in range(len(csv_Data)):\n",
    "        mapping_rows.append(csv_Data[i])\n",
    "    mapping_dict = {}\n",
    "    Ids = []\n",
    "    names = []\n",
    "    for i in range(len(mapping_rows)):\n",
    "        Ids.append(mapping_rows[i][0])\n",
    "        names.append(mapping_rows[i][1])\n",
    "    for i in range(len(Ids)):\n",
    "        if Ids[i] not in mapping_dict:\n",
    "            mapping_dict[Ids[i]] = None\n",
    "        if  mapping_dict[Ids[i]] == None:\n",
    "            mapping_dict[Ids[i]] = names[i]\n",
    "    return mapping_dict"
   ]
  },
  {
   "cell_type": "code",
   "execution_count": 5,
   "id": "949f0197",
   "metadata": {},
   "outputs": [
    {
     "data": {
      "text/plain": [
       "{'tt3104988': 'Crazy Rich Asians',\n",
       " 'nm0160840': 'Jon M. Chu',\n",
       " 'nm2090422': 'Constance Wu',\n",
       " 'nm6525901': 'Henry Golding',\n",
       " 'nm0000706': 'Michelle Yeoh',\n",
       " 'nm2110418': 'Gemma Chan',\n",
       " 'nm0523734': 'Lisa Lu',\n",
       " 'tt4846340': 'Hidden Figures',\n",
       " 'nm0577647': 'Theodore Melfi',\n",
       " 'nm0378245': 'Taraji P. Henson',\n",
       " 'nm0818055': 'Octavia Spencer',\n",
       " 'nm1847117': 'Janelle Monáe'}"
      ]
     },
     "execution_count": 5,
     "metadata": {},
     "output_type": "execute_result"
    }
   ],
   "source": [
    "#Q1: What is returned by get_mapping(\"small_mapping.csv\")?\n",
    "small_mapping = get_mapping('small_mapping.csv')\n",
    "small_mapping"
   ]
  },
  {
   "cell_type": "code",
   "execution_count": 6,
   "id": "86b082b5",
   "metadata": {},
   "outputs": [
    {
     "data": {
      "text/plain": [
       "'Henry Golding'"
      ]
     },
     "execution_count": 6,
     "metadata": {},
     "output_type": "execute_result"
    }
   ],
   "source": [
    "#Q2: What is the value associated with the key \"nm6525901\"?\n",
    "small_mapping['nm6525901']"
   ]
  },
  {
   "cell_type": "code",
   "execution_count": 7,
   "id": "6dd5bc73",
   "metadata": {},
   "outputs": [
    {
     "data": {
      "text/plain": [
       "['Jon M. Chu',\n",
       " 'Constance Wu',\n",
       " 'Henry Golding',\n",
       " 'Michelle Yeoh',\n",
       " 'Gemma Chan',\n",
       " 'Lisa Lu',\n",
       " 'Theodore Melfi',\n",
       " 'Taraji P. Henson',\n",
       " 'Octavia Spencer',\n",
       " 'Janelle Monáe']"
      ]
     },
     "execution_count": 7,
     "metadata": {},
     "output_type": "execute_result"
    }
   ],
   "source": [
    "#Q3: What are the values associated with keys that begin with \"nm\"?\n",
    "ReqNames = []\n",
    "for Id in small_mapping.keys():\n",
    "    if Id[0:2] == 'nm':\n",
    "        ReqNames.append(small_mapping[Id])\n",
    "ReqNames"
   ]
  },
  {
   "cell_type": "code",
   "execution_count": 8,
   "id": "642819ea",
   "metadata": {},
   "outputs": [],
   "source": [
    "def get_key_from_last_name(target_lastname):\n",
    "    \"\"\"\n",
    "    Returns a list of keys (ids) of people that have the specified last name (case insensitive match) in your small mapping.\n",
    "    Your code must only consider the keys that begin with \"nm\".\n",
    "    \"\"\"\n",
    "    last_name = []\n",
    "    for name in ReqNames:\n",
    "        if name.split()[-1] == target_lastname:\n",
    "            for Id in small_mapping.keys():\n",
    "                if small_mapping[Id] == name:\n",
    "                    last_name.append(Id)\n",
    "    return last_name\n",
    "# These are tests. They will do nothing if your implementation is correct.\n",
    "# If your implementation is wrong, they will throw an AssertionError.\n",
    "assert get_key_from_last_name('Spencer') == ['nm0818055']\n",
    "assert get_key_from_last_name('Chan') == ['nm2110418'] "
   ]
  },
  {
   "cell_type": "code",
   "execution_count": 9,
   "id": "e8d09c5c",
   "metadata": {},
   "outputs": [
    {
     "data": {
      "text/plain": [
       "['nm0378245']"
      ]
     },
     "execution_count": 9,
     "metadata": {},
     "output_type": "execute_result"
    }
   ],
   "source": [
    "#Q4: Find the keys of the people(keys beginning with \"nm\") whose last name is \"Henson\".\n",
    "get_key_from_last_name('Henson')"
   ]
  },
  {
   "cell_type": "code",
   "execution_count": 10,
   "id": "d85b86ef",
   "metadata": {},
   "outputs": [],
   "source": [
    "def get_raw_movies(path):\n",
    "    \"\"\"\n",
    "    Converts movies csv list of lists data into a dict with keys as column names and values as corresponding type converted values.\n",
    "    \"\"\"\n",
    "    # Task 2.1 and 2.3c of Lab-P8 have all the necessary steps to complete this function.\n",
    "    # You just need to copy/paste the relevant code, identify the input and output of the function.\n",
    "    csv_rows = process_csv(path)\n",
    "    csv_header = csv_rows[0]\n",
    "    csv_data = csv_rows[1:]\n",
    "    data = {}\n",
    "    split = []\n",
    "    final = []\n",
    "    for row in csv_data:\n",
    "        for i in range(len(row)):\n",
    "            if csv_header[i] == \"actors\" or csv_header[i] == \"genres\" or csv_header[i] == \"directors\":\n",
    "                split = row[i].split(', ')\n",
    "                data[csv_header[i]] = split\n",
    "            elif csv_header[i] == \"rating\":\n",
    "                val = float(row[i])\n",
    "                data[csv_header[i]] = val\n",
    "            elif csv_header[i] == \"duration\":\n",
    "                val = int(row[i])\n",
    "                data[csv_header[i]] = val\n",
    "            elif csv_header[i] == \"year\":\n",
    "                val = int(row[i])\n",
    "                data[csv_header[i]] = val\n",
    "            else: \n",
    "                data[csv_header[i]] = row[i]\n",
    "        final.append(data.copy())\n",
    "    return final\n",
    "\n",
    "\n",
    "assert get_raw_movies(\"small_movies_altered.csv\") == get_raw_movies(\"small_movies.csv\")"
   ]
  },
  {
   "cell_type": "code",
   "execution_count": 11,
   "id": "7b570555",
   "metadata": {},
   "outputs": [
    {
     "data": {
      "text/plain": [
       "[{'title': 'tt3104988',\n",
       "  'year': 2018,\n",
       "  'genres': ['Comedy', 'Drama', 'Romance'],\n",
       "  'duration': 120,\n",
       "  'directors': ['nm0160840'],\n",
       "  'actors': ['nm2090422', 'nm6525901', 'nm0000706', 'nm2110418', 'nm0523734'],\n",
       "  'rating': 6.9},\n",
       " {'title': 'tt4846340',\n",
       "  'year': 2016,\n",
       "  'genres': ['Biography', 'Drama', 'History'],\n",
       "  'duration': 127,\n",
       "  'directors': ['nm0577647'],\n",
       "  'actors': ['nm0378245', 'nm0818055', 'nm1847117'],\n",
       "  'rating': 7.8}]"
      ]
     },
     "execution_count": 11,
     "metadata": {},
     "output_type": "execute_result"
    }
   ],
   "source": [
    "#Q5: What does get_raw_movies(\"small_movies.csv\") return?\n",
    "movie_info = get_raw_movies(\"small_movies.csv\")\n",
    "movie_info"
   ]
  },
  {
   "cell_type": "code",
   "execution_count": 12,
   "id": "ed2eb362",
   "metadata": {},
   "outputs": [
    {
     "data": {
      "text/plain": [
       "5"
      ]
     },
     "execution_count": 12,
     "metadata": {},
     "output_type": "execute_result"
    }
   ],
   "source": [
    "#Q6: How many actors does the movie at index 0 have?\n",
    "len(movie_info[0]['actors'])"
   ]
  },
  {
   "cell_type": "code",
   "execution_count": 13,
   "id": "82c41715",
   "metadata": {},
   "outputs": [
    {
     "data": {
      "text/plain": [
       "'nm2090422'"
      ]
     },
     "execution_count": 13,
     "metadata": {},
     "output_type": "execute_result"
    }
   ],
   "source": [
    "#Q7: What is the ID of the first actor listed for the first movie of the dataset?\n",
    "movie_info[0]['actors'][0]"
   ]
  },
  {
   "cell_type": "code",
   "execution_count": 14,
   "id": "62e5163e",
   "metadata": {},
   "outputs": [],
   "source": [
    "def get_movies(movies_path, mapping_path):\n",
    "    csv_rows = process_csv(\"small_movies.csv\")\n",
    "    csv_header = csv_rows[0]\n",
    "    csv_data = csv_rows[1:]\n",
    "    raw_movies = get_raw_movies(movies_path)\n",
    "    movies = raw_movies.copy()\n",
    "    mapping = get_mapping(mapping_path)\n",
    "    for row in range(len(raw_movies)):\n",
    "        if \"title\" in raw_movies[row].keys():\n",
    "            title = mapping.get(raw_movies[row][\"title\"])\n",
    "            movies[row][\"title\"] = title\n",
    "        if \"actors\" in raw_movies[row].keys():\n",
    "            for i in range(len(raw_movies[row][\"actors\"])):\n",
    "                actor = mapping.get(raw_movies[row][\"actors\"][i])\n",
    "                movies[row][\"actors\"][i] = actor\n",
    "        if \"directors\" in raw_movies[row].keys():\n",
    "            for i in range(len(raw_movies[row][\"directors\"])):\n",
    "                director = mapping.get(raw_movies[row][\"directors\"][i])\n",
    "                movies[row][\"directors\"][i] = director\n",
    "    return movies"
   ]
  },
  {
   "cell_type": "code",
   "execution_count": 15,
   "id": "4249f118",
   "metadata": {},
   "outputs": [
    {
     "data": {
      "text/plain": [
       "[{'title': 'Crazy Rich Asians',\n",
       "  'year': 2018,\n",
       "  'genres': ['Comedy', 'Drama', 'Romance'],\n",
       "  'duration': 120,\n",
       "  'directors': ['Jon M. Chu'],\n",
       "  'actors': ['Constance Wu',\n",
       "   'Henry Golding',\n",
       "   'Michelle Yeoh',\n",
       "   'Gemma Chan',\n",
       "   'Lisa Lu'],\n",
       "  'rating': 6.9},\n",
       " {'title': 'Hidden Figures',\n",
       "  'year': 2016,\n",
       "  'genres': ['Biography', 'Drama', 'History'],\n",
       "  'duration': 127,\n",
       "  'directors': ['Theodore Melfi'],\n",
       "  'actors': ['Taraji P. Henson', 'Octavia Spencer', 'Janelle Monáe'],\n",
       "  'rating': 7.8}]"
      ]
     },
     "execution_count": 15,
     "metadata": {},
     "output_type": "execute_result"
    }
   ],
   "source": [
    "#Q8: What is small_movies_data?\n",
    "small_movies_data = get_movies(\"small_movies.csv\", \"small_mapping.csv\")\n",
    "small_movies_data"
   ]
  },
  {
   "cell_type": "code",
   "execution_count": 16,
   "id": "b60c2075",
   "metadata": {},
   "outputs": [
    {
     "data": {
      "text/plain": [
       "'Hidden Figures'"
      ]
     },
     "execution_count": 16,
     "metadata": {},
     "output_type": "execute_result"
    }
   ],
   "source": [
    "#Q9: What is title of the second movie in small_movies_data?\n",
    "small_movies_data[1]['title']"
   ]
  },
  {
   "cell_type": "code",
   "execution_count": 17,
   "id": "b4e4f579",
   "metadata": {},
   "outputs": [
    {
     "data": {
      "text/plain": [
       "['Constance Wu', 'Henry Golding', 'Michelle Yeoh', 'Gemma Chan', 'Lisa Lu']"
      ]
     },
     "execution_count": 17,
     "metadata": {},
     "output_type": "execute_result"
    }
   ],
   "source": [
    "#Q10: Who are all the actors of the first movie in small_movies_data?\n",
    "small_movies_data[0]['actors']"
   ]
  },
  {
   "cell_type": "code",
   "execution_count": 18,
   "id": "231d6cfb",
   "metadata": {},
   "outputs": [
    {
     "data": {
      "text/plain": [
       "['Theodore Melfi']"
      ]
     },
     "execution_count": 18,
     "metadata": {},
     "output_type": "execute_result"
    }
   ],
   "source": [
    "#Q11: Who are all the directors of the last movie in small_movies_data?\n",
    "small_movies_data[1]['directors']"
   ]
  },
  {
   "cell_type": "code",
   "execution_count": 19,
   "id": "46d16375",
   "metadata": {},
   "outputs": [],
   "source": [
    "movies = get_movies(\"movies.csv\", \"mapping.csv\")"
   ]
  },
  {
   "cell_type": "code",
   "execution_count": 20,
   "id": "559259ef",
   "metadata": {},
   "outputs": [
    {
     "data": {
      "text/plain": [
       "33102"
      ]
     },
     "execution_count": 20,
     "metadata": {},
     "output_type": "execute_result"
    }
   ],
   "source": [
    "#Q12: What is the length of movies?\n",
    "len(movies)"
   ]
  },
  {
   "cell_type": "code",
   "execution_count": 21,
   "id": "3cc99694",
   "metadata": {},
   "outputs": [
    {
     "data": {
      "text/plain": [
       "[{'title': 'Battle Bots',\n",
       "  'year': 2018,\n",
       "  'genres': ['Action', 'Adventure', 'Sci-Fi'],\n",
       "  'duration': 67,\n",
       "  'directors': ['Mark Polonia'],\n",
       "  'actors': ['Danielle Donahue', 'Jeff Kirkendall', 'Marie DeLorenzo'],\n",
       "  'rating': 1.9},\n",
       " {'title': 'Inescapable',\n",
       "  'year': 2003,\n",
       "  'genres': ['Drama'],\n",
       "  'duration': 82,\n",
       "  'directors': ['Helen Lesnick'],\n",
       "  'actors': ['Natalie Anderson', 'Tanna Frederick', 'Athena Demos'],\n",
       "  'rating': 4.2}]"
      ]
     },
     "execution_count": 21,
     "metadata": {},
     "output_type": "execute_result"
    }
   ],
   "source": [
    "#Q13: What are the contents of the last 2 rows in movies?\n",
    "movies[len(movies)-2:]"
   ]
  },
  {
   "cell_type": "code",
   "execution_count": 22,
   "id": "6156a3a9",
   "metadata": {},
   "outputs": [],
   "source": [
    "def find_specific_movies(movies, keyword):\n",
    "    \"\"\"\n",
    "    Given a list of movie dictionaries and a keyword, returns a list of movies that contain the keyword\n",
    "    in either its title, genre, actors or directors.\n",
    "    \"\"\"\n",
    "    idx = 0\n",
    "    while idx < len(movies):\n",
    "        movie = movies[idx]\n",
    "        # Note: \\ enables you split a long line of code into two lines\n",
    "        if (keyword not in movie['title']) and (keyword not in movie[\"genres\"]) \\\n",
    "        and (keyword not in movie[\"directors\"]) and (keyword not in movie[\"actors\"]):\n",
    "            movies.pop(idx)\n",
    "        else:\n",
    "            idx += 1\n",
    "    return movies"
   ]
  },
  {
   "cell_type": "code",
   "execution_count": 23,
   "id": "224b5662",
   "metadata": {},
   "outputs": [
    {
     "data": {
      "text/plain": [
       "[{'title': 'Lady Bird',\n",
       "  'year': 2017,\n",
       "  'genres': ['Comedy', 'Drama'],\n",
       "  'duration': 94,\n",
       "  'directors': ['Greta Gerwig'],\n",
       "  'actors': ['Saoirse Ronan', 'Laurie Metcalf'],\n",
       "  'rating': 7.4},\n",
       " {'title': 'Little Women',\n",
       "  'year': 2019,\n",
       "  'genres': ['Drama', 'Romance'],\n",
       "  'duration': 135,\n",
       "  'directors': ['Greta Gerwig'],\n",
       "  'actors': ['Saoirse Ronan', 'Emma Watson', 'Florence Pugh', 'Eliza Scanlen'],\n",
       "  'rating': 7.8},\n",
       " {'title': 'Nights and Weekends',\n",
       "  'year': 2008,\n",
       "  'genres': ['Drama', 'Romance'],\n",
       "  'duration': 80,\n",
       "  'directors': ['Greta Gerwig', 'Joe Swanberg'],\n",
       "  'actors': ['Joe Swanberg', 'Jay Duplass', 'Elizabeth Donius'],\n",
       "  'rating': 6.1}]"
      ]
     },
     "execution_count": 23,
     "metadata": {},
     "output_type": "execute_result"
    }
   ],
   "source": [
    "#Q14: List all the movies in the dataset that Greta Gerwig has directed.\n",
    "movie = movies.copy()\n",
    "spec_movie = find_specific_movies(movie,'Greta Gerwig')\n",
    "reqFilms = []\n",
    "for i in range(len(spec_movie)):\n",
    "    if 'Greta Gerwig' in spec_movie[i]['directors']:\n",
    "        reqFilms.append(spec_movie[i])\n",
    "reqFilms"
   ]
  },
  {
   "cell_type": "code",
   "execution_count": 24,
   "id": "041009fb",
   "metadata": {},
   "outputs": [
    {
     "data": {
      "text/plain": [
       "['Mystery',\n",
       " 'Comedy',\n",
       " 'Western',\n",
       " 'Thriller',\n",
       " 'Drama',\n",
       " 'Crime',\n",
       " 'Action',\n",
       " 'Biography',\n",
       " 'Sci-Fi',\n",
       " 'Adventure',\n",
       " 'Romance']"
      ]
     },
     "execution_count": 24,
     "metadata": {},
     "output_type": "execute_result"
    }
   ],
   "source": [
    "#Q15: Which genres of movies did Leonardo DiCaprio ever appear in?\n",
    "movieR = movies.copy()\n",
    "movieGenre = []\n",
    "for i in range(len(find_specific_movies(movieR,'Leonardo DiCaprio'))):\n",
    "    for j in range(len(find_specific_movies(movieR,'Leonardo DiCaprio')[i]['genres'])):\n",
    "        movieGenre.append(find_specific_movies(movieR,'Leonardo DiCaprio')[i]['genres'][j])\n",
    "    movieSet = set(movieGenre)\n",
    "    movieGenre = list(movieSet)\n",
    "movieGenre"
   ]
  },
  {
   "cell_type": "code",
   "execution_count": 25,
   "id": "cdfa7633",
   "metadata": {},
   "outputs": [],
   "source": [
    "def bucketize_by_genre(movies):\n",
    "    \"\"\"Given a list of movie dictionaries,\n",
    "    returns a dict in which the key is the genre and\n",
    "    the value is a list of all movies that contain that genre\"\"\"\n",
    "    #TODO: initialize a dictionary\n",
    "    buckets = {}\n",
    "    #TODO: loop through all movies\n",
    "    for movie in movies:\n",
    "    #TODO: loop through all genres in this movie\n",
    "    #TODO: if this genre is not a key in our dictionary, set the value associated with this genre to an empty list\n",
    "    #TODO: if we already have this genre in our dictionary, add the movie to the list associated with this genre\n",
    "        for i in range(len(movie['genres'])):\n",
    "            first = movie['genres'][i]\n",
    "            if not first in buckets:\n",
    "                buckets[first] = []\n",
    "            buckets[first].append(movie)\n",
    "    return buckets\n",
    "genre_bucket = bucketize_by_genre(movies)"
   ]
  },
  {
   "cell_type": "code",
   "execution_count": 26,
   "id": "4f12464c",
   "metadata": {
    "scrolled": true
   },
   "outputs": [
    {
     "data": {
      "text/plain": [
       "['Action',\n",
       " 'Horror',\n",
       " 'Sci-Fi',\n",
       " 'Crime',\n",
       " 'Thriller',\n",
       " 'Comedy',\n",
       " 'Drama',\n",
       " 'Romance',\n",
       " 'History',\n",
       " 'Adventure',\n",
       " 'Western',\n",
       " 'Family',\n",
       " 'Fantasy',\n",
       " 'War',\n",
       " 'Sport',\n",
       " 'Biography',\n",
       " 'Mystery',\n",
       " 'Film-Noir',\n",
       " 'Music',\n",
       " 'Animation',\n",
       " 'Musical',\n",
       " 'Reality-TV',\n",
       " 'Documentary',\n",
       " 'News']"
      ]
     },
     "execution_count": 26,
     "metadata": {},
     "output_type": "execute_result"
    }
   ],
   "source": [
    "#Q16: List the unique genres present in the movies dataset.\n",
    "genres = []\n",
    "for key in genre_bucket:\n",
    "    genres.append(key)\n",
    "genres"
   ]
  },
  {
   "cell_type": "code",
   "execution_count": 27,
   "id": "632ddf37",
   "metadata": {},
   "outputs": [
    {
     "data": {
      "text/plain": [
       "11130"
      ]
     },
     "execution_count": 27,
     "metadata": {},
     "output_type": "execute_result"
    }
   ],
   "source": [
    "#Q17: How many Comedy movies do we have in the movies dataset?\n",
    "len(genre_bucket['Comedy'])"
   ]
  },
  {
   "cell_type": "code",
   "execution_count": 28,
   "id": "6979925a",
   "metadata": {},
   "outputs": [
    {
     "data": {
      "text/plain": [
       "'Hopeful Notes'"
      ]
     },
     "execution_count": 28,
     "metadata": {},
     "output_type": "execute_result"
    }
   ],
   "source": [
    "#Q18: What is the title of the Drama movie has the highest rating in the movies dataset?\n",
    "max = 0 \n",
    "for i in range(len(genre_bucket['Drama'])):\n",
    "    if genre_bucket['Drama'][i]['rating'] > max:\n",
    "        max = genre_bucket['Drama'][i]['rating']\n",
    "        film = genre_bucket['Drama'][i]['title']\n",
    "film"
   ]
  },
  {
   "cell_type": "code",
   "execution_count": 29,
   "id": "eeef1279",
   "metadata": {
    "scrolled": true
   },
   "outputs": [
    {
     "data": {
      "text/plain": [
       "['Drama',\n",
       " 'Horror',\n",
       " 'Sci-Fi',\n",
       " 'Biography',\n",
       " 'Romance',\n",
       " 'Thriller',\n",
       " 'Action',\n",
       " 'Crime',\n",
       " 'Comedy',\n",
       " 'Adventure',\n",
       " 'Family',\n",
       " 'Fantasy']"
      ]
     },
     "execution_count": 29,
     "metadata": {},
     "output_type": "execute_result"
    }
   ],
   "source": [
    "#Q19: List all the genres of movies that Daniel Radcliffe has ever acted in.\n",
    "reqMovies = []\n",
    "Movie = movies.copy()\n",
    "for i in range(len(find_specific_movies(Movie,'Daniel Radcliffe'))):\n",
    "    reqMovies.append(find_specific_movies(Movie,'Daniel Radcliffe')[i])\n",
    "genres = []\n",
    "for key in bucketize_by_genre(reqMovies):\n",
    "    genres.append(key)\n",
    "genres"
   ]
  },
  {
   "cell_type": "code",
   "execution_count": 30,
   "id": "e0861c32",
   "metadata": {},
   "outputs": [
    {
     "data": {
      "text/plain": [
       "'Music'"
      ]
     },
     "execution_count": 30,
     "metadata": {},
     "output_type": "execute_result"
    }
   ],
   "source": [
    "#Q20: Which movie genre does the actress Jennifer Aniston play the least?\n",
    "req_Movies = find_specific_movies(movies,'Jennifer Aniston')\n",
    "minimum = 100000\n",
    "genreLeast = ''\n",
    "bucketReq = bucketize_by_genre(req_Movies)\n",
    "for key in bucketReq:\n",
    "    if len(bucketReq[key]) <= minimum:\n",
    "        minimum = int(len(bucketReq[key]))\n",
    "        genreLeast = key\n",
    "genreLeast"
   ]
  },
  {
   "cell_type": "markdown",
   "id": "37e422f3",
   "metadata": {},
   "source": []
  }
 ],
 "metadata": {
  "kernelspec": {
   "display_name": "Python 3 (ipykernel)",
   "language": "python",
   "name": "python3"
  },
  "language_info": {
   "codemirror_mode": {
    "name": "ipython",
    "version": 3
   },
   "file_extension": ".py",
   "mimetype": "text/x-python",
   "name": "python",
   "nbconvert_exporter": "python",
   "pygments_lexer": "ipython3",
   "version": "3.9.7"
  }
 },
 "nbformat": 4,
 "nbformat_minor": 5
}
